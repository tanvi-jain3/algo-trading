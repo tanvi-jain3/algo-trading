{
 "cells": [
  {
   "cell_type": "markdown",
   "metadata": {},
   "source": [
    "General strategy:\n",
    "\n",
    "- Download stocks \n",
    "- Reorder to make ticker as the row\n",
    "- find momentum of each (1mo period)\n",
    "- find p value: correlation of momentum with returns (close price)\n",
    "- score: result of spearman correlation\n",
    "- Daily/Monthly correlation\n",
    "- Rank based on scores, divide into buckets and calculated average returns per bucket. \n",
    "- buy first basket, sell last basket every month\n",
    "\n",
    "\n",
    "total_return = strategy_returns.sum()\n",
    "ann_return = 100*((1 + total_return)**(12.0 /float(strategy_returns.index.size))-1)\n",
    "print('Annual Returns: %.2f%%'%ann_return)\n",
    "\n",
    "\n",
    "separate dataframe for forward returns by period\n",
    "\n",
    "Aside from ranking factor, everything is mechanical \n",
    "\n",
    "for close price: use Adj Close\n"
   ]
  },
  {
   "cell_type": "code",
   "execution_count": null,
   "metadata": {},
   "outputs": [],
   "source": [
    "#Install prereq packages\n",
    "!pip install -q yfinance pandas matplotlib numpy #truncate output because annoying"
   ]
  },
  {
   "cell_type": "code",
   "execution_count": null,
   "metadata": {},
   "outputs": [],
   "source": [
    "import yfinance as yf\n",
    "import itertools\n",
    "\n",
    "#Get company tickers\n",
    "sectors=[\"basic-materials\",\"communication-services\",\"consumer-cyclical\",\"consumer-defensive\",\"energy\",\"financial-services\",\n",
    "         \"healthcare\",\"industrials\",\"real-estate\",\"technology\"]\n",
    "\n",
    "universe_list=[]\n",
    "for sector in sectors:\n",
    "    universe_list.append(list(yf.Sector(sector).top_companies.index[:10]))\n",
    "\n",
    "ticker_list=list(itertools.chain(*universe_list))\n",
    "ticker_list"
   ]
  },
  {
   "cell_type": "code",
   "execution_count": null,
   "metadata": {},
   "outputs": [],
   "source": [
    "#Goal is to create a database with the tickers as indexes and the dates as columns -> transpose and rename\n",
    "# fetch data per ticker from yfinanec and merge\n",
    "#How to transpose and add row?\n",
    "#Calculate momentum\n",
    "# \n"
   ]
  }
 ],
 "metadata": {
  "kernelspec": {
   "display_name": "Python 3.12.7 ('base')",
   "language": "python",
   "name": "python3"
  },
  "language_info": {
   "name": "python",
   "version": "3.12.7"
  },
  "orig_nbformat": 4,
  "vscode": {
   "interpreter": {
    "hash": "40d3a090f54c6569ab1632332b64b2c03c39dcf918b08424e98f38b5ae0af88f"
   }
  }
 },
 "nbformat": 4,
 "nbformat_minor": 2
}
